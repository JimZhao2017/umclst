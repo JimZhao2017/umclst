{
 "cells": [
  {
   "cell_type": "code",
   "execution_count": 23,
   "id": "bba93886",
   "metadata": {},
   "outputs": [
    {
     "name": "stdout",
     "output_type": "stream",
     "text": [
      "Processing complete.\n"
     ]
    }
   ],
   "source": [
    "import os\n",
    "import pandas as pd\n",
    "\n",
    "# Specify the folder path containing the input CSV files\n",
    "folder_path = 'C:/Users/zhaoj/Desktop/umclst/result/SingleRegression/detrend/jjj/'\n",
    "\n",
    "# Get a list of all CSV files in the folder\n",
    "csv_files = [f for f in os.listdir(folder_path) if f.endswith('.csv')]\n",
    "\n",
    "# Loop through each CSV file\n",
    "for file in csv_files:\n",
    "    # Read the CSV file into a DataFrame\n",
    "    file_path = os.path.join(folder_path, file)\n",
    "    df = pd.read_csv(file_path)\n",
    "    \n",
    "    # Calculate the median value of 'diff' for each unique 'change' type\n",
    "    median_diff = df.groupby('change')['diff'].median().reset_index()\n",
    "    \n",
    "    # Construct the output file name\n",
    "    output_file = os.path.splitext(file)[0] + '_out.csv'\n",
    "    folder_pathout = 'C:/Users/zhaoj/Desktop/umclst/result/SingleRegression/Figure3/step1/jjj/'\n",
    "    \n",
    "    # Write the results to a new CSV file\n",
    "    median_diff.to_csv(folder_pathout+output_file, index=False)\n",
    "\n",
    "print(\"Processing complete.\")\n"
   ]
  },
  {
   "cell_type": "code",
   "execution_count": 1,
   "id": "19fc1fd0",
   "metadata": {},
   "outputs": [
    {
     "name": "stdout",
     "output_type": "stream",
     "text": [
      "Processing complete.\n"
     ]
    }
   ],
   "source": [
    "# Specify the folder path containing the input CSV files\n",
    "folder_path = 'C:/Users/zhaoj/Desktop/umclst/result/SingleRegression/detrend/yrd/'\n",
    "\n",
    "# Get a list of all CSV files in the folder\n",
    "csv_files = [f for f in os.listdir(folder_path) if f.endswith('.csv')]\n",
    "\n",
    "# Loop through each CSV file\n",
    "for file in csv_files:\n",
    "    # Read the CSV file into a DataFrame\n",
    "    file_path = os.path.join(folder_path, file)\n",
    "    df = pd.read_csv(file_path)\n",
    "    \n",
    "    # Calculate the median value of 'diff' for each unique 'change' type\n",
    "    median_diff = df.groupby('change')['diff'].median().reset_index()\n",
    "    \n",
    "    # Construct the output file name\n",
    "    output_file = os.path.splitext(file)[0] + '_out.csv'\n",
    "    folder_pathout = 'C:/Users/zhaoj/Desktop/umclst/result/SingleRegression/Figure3/step1/yrd/'\n",
    "    \n",
    "    # Write the results to a new CSV file\n",
    "    median_diff.to_csv(folder_pathout+output_file, index=False)\n",
    "\n",
    "print(\"Processing complete.\")\n"
   ]
  },
  {
   "cell_type": "code",
   "execution_count": 25,
   "id": "2c9a6533",
   "metadata": {},
   "outputs": [
    {
     "name": "stdout",
     "output_type": "stream",
     "text": [
      "Processing complete.\n"
     ]
    }
   ],
   "source": [
    "# Specify the folder path containing the input CSV files\n",
    "folder_path = 'C:/Users/zhaoj/Desktop/umclst/result/SingleRegression/detrend/prd/'\n",
    "\n",
    "# Get a list of all CSV files in the folder\n",
    "csv_files = [f for f in os.listdir(folder_path) if f.endswith('.csv')]\n",
    "\n",
    "# Loop through each CSV file\n",
    "for file in csv_files:\n",
    "    # Read the CSV file into a DataFrame\n",
    "    file_path = os.path.join(folder_path, file)\n",
    "    df = pd.read_csv(file_path)\n",
    "    \n",
    "    # Calculate the median value of 'diff' for each unique 'change' type\n",
    "    median_diff = df.groupby('change')['diff'].median().reset_index()\n",
    "    \n",
    "    # Construct the output file name\n",
    "    output_file = os.path.splitext(file)[0] + '_out.csv'\n",
    "    folder_pathout = 'C:/Users/zhaoj/Desktop/umclst/result/SingleRegression/Figure3/step1/prd/'\n",
    "    \n",
    "    # Write the results to a new CSV file\n",
    "    median_diff.to_csv(folder_pathout+output_file, index=False)\n",
    "\n",
    "print(\"Processing complete.\")\n"
   ]
  }
 ],
 "metadata": {
  "kernelspec": {
   "display_name": "Python [conda env:plot]",
   "language": "python",
   "name": "conda-env-plot-py"
  },
  "language_info": {
   "codemirror_mode": {
    "name": "ipython",
    "version": 3
   },
   "file_extension": ".py",
   "mimetype": "text/x-python",
   "name": "python",
   "nbconvert_exporter": "python",
   "pygments_lexer": "ipython3",
   "version": "3.9.16"
  }
 },
 "nbformat": 4,
 "nbformat_minor": 5
}
